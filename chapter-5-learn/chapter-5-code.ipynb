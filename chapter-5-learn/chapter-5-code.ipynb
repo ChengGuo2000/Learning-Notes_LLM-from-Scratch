{
 "cells": [
  {
   "cell_type": "markdown",
   "id": "eb9d3b5d",
   "metadata": {},
   "source": [
    "# 5.1 Evaluating generative text models"
   ]
  },
  {
   "cell_type": "markdown",
   "id": "96e940be",
   "metadata": {},
   "source": [
    "## 5.1.1 Using GPT to generate text"
   ]
  },
  {
   "cell_type": "code",
   "execution_count": 2,
   "id": "186e182a",
   "metadata": {},
   "outputs": [],
   "source": [
    "# Import code from last chapter and initialize a GPT model\n",
    "import torch\n",
    "from previous_chapters import GPTModel\n",
    "GPT_CONFIG_124M = {\n",
    "    \"vocab_size\": 50257,\n",
    "    \"context_length\": 256, \n",
    "    \"emb_dim\": 768,\n",
    "    \"n_heads\": 12,\n",
    "    \"n_layers\": 12,\n",
    "    \"drop_rate\": 0.1,\n",
    "    \"qkv_bias\": False\n",
    "}\n",
    "torch.manual_seed(123)\n",
    "model = GPTModel(GPT_CONFIG_124M)\n",
    "model.eval();"
   ]
  },
  {
   "cell_type": "code",
   "execution_count": 3,
   "id": "b8422922",
   "metadata": {},
   "outputs": [],
   "source": [
    "# Utility functions for text to token ID conversion\n",
    "import tiktoken\n",
    "from previous_chapters import generate_text_simple\n",
    "\n",
    "def text_to_token_ids(text, tokenizer):\n",
    "    encoded = tokenizer.encode(text, allowed_special={'<|endoftext|>'})\n",
    "    encoded_tensor = torch.tensor(encoded).unsqueeze(0) # add batch dimension\n",
    "    return encoded_tensor\n",
    "\n",
    "def token_ids_to_text(token_ids, tokenizer):\n",
    "    flat = token_ids.squeeze(0) # remove batch dimension\n",
    "    return tokenizer.decode(flat.tolist())"
   ]
  },
  {
   "cell_type": "code",
   "execution_count": 4,
   "id": "124a0102",
   "metadata": {},
   "outputs": [
    {
     "name": "stdout",
     "output_type": "stream",
     "text": [
      "Output text:\n",
      " Every effort moves you rentingetic wasnم refres RexMeCHicular stren\n"
     ]
    }
   ],
   "source": [
    "# Test the two above functions\n",
    "start_context = \"Every effort moves you\"\n",
    "tokenizer = tiktoken.get_encoding(\"gpt2\")\n",
    "token_ids = generate_text_simple(\n",
    "    model=model,\n",
    "    idx=text_to_token_ids(start_context, tokenizer),\n",
    "    max_new_tokens=10,\n",
    "    context_size=GPT_CONFIG_124M[\"context_length\"]\n",
    ")\n",
    "print(\"Output text:\\n\", token_ids_to_text(token_ids, tokenizer))"
   ]
  },
  {
   "cell_type": "markdown",
   "id": "f2b050b2",
   "metadata": {},
   "source": [
    "## 5.1.2 Calculating the text generation loss"
   ]
  },
  {
   "cell_type": "code",
   "execution_count": 5,
   "id": "fa12760b",
   "metadata": {},
   "outputs": [],
   "source": [
    "# Input examples\n",
    "inputs = torch.tensor([[16833, 3626, 6100], # every effort moves\n",
    "                       [40,    1107, 588]]) # I really like\n",
    "targets = torch.tensor([[3626, 6100, 345  ], # effort moves you\n",
    "                        [1107,  588, 11311]]) # really like chocolate"
   ]
  },
  {
   "cell_type": "code",
   "execution_count": 6,
   "id": "a01db4e8",
   "metadata": {},
   "outputs": [
    {
     "name": "stdout",
     "output_type": "stream",
     "text": [
      "torch.Size([2, 3, 50257])\n"
     ]
    }
   ],
   "source": [
    "# Get probas\n",
    "with torch.no_grad():\n",
    "    logits = model(inputs)\n",
    "probas = torch.softmax(logits, dim=-1)\n",
    "print(probas.shape)"
   ]
  },
  {
   "cell_type": "code",
   "execution_count": 7,
   "id": "ae780a73",
   "metadata": {},
   "outputs": [
    {
     "name": "stdout",
     "output_type": "stream",
     "text": [
      "Token IDs:\n",
      " tensor([[[16657],\n",
      "         [  339],\n",
      "         [42826]],\n",
      "\n",
      "        [[49906],\n",
      "         [29669],\n",
      "         [41751]]])\n"
     ]
    }
   ],
   "source": [
    "# Obtain corresponding token IDs\n",
    "token_ids = torch.argmax(probas, dim=-1, keepdim=True)\n",
    "print(\"Token IDs:\\n\", token_ids)"
   ]
  },
  {
   "cell_type": "code",
   "execution_count": 8,
   "id": "1b9f1ce0",
   "metadata": {},
   "outputs": [
    {
     "name": "stdout",
     "output_type": "stream",
     "text": [
      "Targets batch 1:  effort moves you\n",
      "Outputs batch 1:  Armed heNetflix\n"
     ]
    }
   ],
   "source": [
    "# Converts the token IDs back into text\n",
    "print(f\"Targets batch 1: {token_ids_to_text(targets[0], tokenizer)}\")\n",
    "print(f\"Outputs batch 1: {token_ids_to_text(token_ids[0].flatten(), tokenizer)}\")"
   ]
  },
  {
   "cell_type": "code",
   "execution_count": 9,
   "id": "54dc22fe",
   "metadata": {},
   "outputs": [
    {
     "name": "stdout",
     "output_type": "stream",
     "text": [
      "Text 1: tensor([7.4540e-05, 3.1061e-05, 1.1563e-05])\n",
      "Text 2: tensor([1.0337e-05, 5.6776e-05, 4.7559e-06])\n"
     ]
    }
   ],
   "source": [
    "# Print the initial softmax probability scores\n",
    "text_idx = 0\n",
    "target_probas_1 = probas[text_idx, [0, 1, 2], targets[text_idx]]\n",
    "print(\"Text 1:\", target_probas_1)\n",
    "\n",
    "text_idx = 1\n",
    "target_probas_2 = probas[text_idx, [0, 1, 2], targets[text_idx]]\n",
    "print(\"Text 2:\", target_probas_2)"
   ]
  },
  {
   "cell_type": "code",
   "execution_count": 10,
   "id": "7ec4405a",
   "metadata": {},
   "outputs": [
    {
     "name": "stdout",
     "output_type": "stream",
     "text": [
      "tensor([ -9.5042, -10.3796, -11.3677, -11.4798,  -9.7764, -12.2561])\n"
     ]
    }
   ],
   "source": [
    "# Applying the logarithm to the probability scores\n",
    "log_probas = torch.log(torch.cat((target_probas_1, target_probas_2)))\n",
    "print(log_probas)"
   ]
  },
  {
   "cell_type": "code",
   "execution_count": 11,
   "id": "4fe642ea",
   "metadata": {},
   "outputs": [
    {
     "name": "stdout",
     "output_type": "stream",
     "text": [
      "tensor(-10.7940)\n"
     ]
    }
   ],
   "source": [
    "# Combine the log probabilities into a single score by averaging\n",
    "avg_log_probas = torch.mean(log_probas)\n",
    "print(avg_log_probas)"
   ]
  },
  {
   "cell_type": "code",
   "execution_count": 12,
   "id": "260e0c42",
   "metadata": {},
   "outputs": [
    {
     "name": "stdout",
     "output_type": "stream",
     "text": [
      "tensor(10.7940)\n"
     ]
    }
   ],
   "source": [
    "# Calculate the negative average log probability\n",
    "neg_avg_log_probas = avg_log_probas * -1\n",
    "print(neg_avg_log_probas)"
   ]
  },
  {
   "cell_type": "code",
   "execution_count": 13,
   "id": "26440025",
   "metadata": {},
   "outputs": [
    {
     "name": "stdout",
     "output_type": "stream",
     "text": [
      "Logits shape: torch.Size([2, 3, 50257])\n"
     ]
    }
   ],
   "source": [
    "# Logits have shape (batch_size, num_tokens, vocab_size)\n",
    "print(\"Logits shape:\", logits.shape)"
   ]
  },
  {
   "cell_type": "code",
   "execution_count": 14,
   "id": "15600473",
   "metadata": {},
   "outputs": [
    {
     "name": "stdout",
     "output_type": "stream",
     "text": [
      "Targets shape: torch.Size([2, 3])\n"
     ]
    }
   ],
   "source": [
    "# Targets have shape (batch_size, num_tokens)\n",
    "print(\"Targets shape:\", targets.shape)"
   ]
  },
  {
   "cell_type": "code",
   "execution_count": 15,
   "id": "6b4193d8",
   "metadata": {},
   "outputs": [
    {
     "name": "stdout",
     "output_type": "stream",
     "text": [
      "Flattened logits: torch.Size([6, 50257])\n",
      "Flattened targets: torch.Size([6])\n"
     ]
    }
   ],
   "source": [
    "# Flatten the tensors by combining them over the batch dimension\n",
    "logits_flat = logits.flatten(0, 1)\n",
    "targets_flat = targets.flatten()\n",
    "print(\"Flattened logits:\", logits_flat.shape)\n",
    "print(\"Flattened targets:\", targets_flat.shape)"
   ]
  },
  {
   "cell_type": "code",
   "execution_count": 16,
   "id": "a99932ac",
   "metadata": {},
   "outputs": [
    {
     "name": "stdout",
     "output_type": "stream",
     "text": [
      "tensor(10.7940)\n"
     ]
    }
   ],
   "source": [
    "# Calculate loss with cross_entropy function\n",
    "loss = torch.nn.functional.cross_entropy(logits_flat, targets_flat)\n",
    "print(loss)"
   ]
  },
  {
   "cell_type": "code",
   "execution_count": 17,
   "id": "561f1865",
   "metadata": {},
   "outputs": [
    {
     "name": "stdout",
     "output_type": "stream",
     "text": [
      "tensor(48725.8203)\n"
     ]
    }
   ],
   "source": [
    "# Calculate the perplexity\n",
    "perplexity = torch.exp(loss)\n",
    "print(perplexity)"
   ]
  },
  {
   "cell_type": "markdown",
   "id": "31008987",
   "metadata": {},
   "source": [
    "## 5.1.3 Calculating the training and validation set losses\n",
    "I am using \"The Pit and the Pendulum\" by Edgar Allan Poe (which is in the public domain) for text preprocessing to get some novel results."
   ]
  },
  {
   "cell_type": "code",
   "execution_count": 18,
   "id": "dc93024e",
   "metadata": {},
   "outputs": [],
   "source": [
    "# Loads the short story\n",
    "file_path = \"pit-and-pendulum.txt\"\n",
    "with open(file_path, \"r\", encoding=\"utf-8\") as file:\n",
    "    text_data = file.read()"
   ]
  },
  {
   "cell_type": "code",
   "execution_count": 19,
   "id": "b327f1fb",
   "metadata": {},
   "outputs": [
    {
     "name": "stdout",
     "output_type": "stream",
     "text": [
      "Characters: 33679\n",
      "Tokens: 7702\n"
     ]
    }
   ],
   "source": [
    "# Check the number of characters and tokens\n",
    "total_characters = len(text_data)\n",
    "total_tokens = len(tokenizer.encode(text_data))\n",
    "print(\"Characters:\", total_characters)\n",
    "print(\"Tokens:\", total_tokens)"
   ]
  },
  {
   "cell_type": "code",
   "execution_count": 20,
   "id": "7fbd445c",
   "metadata": {},
   "outputs": [],
   "source": [
    "# Define training and validation split\n",
    "train_ratio = 0.90\n",
    "split_idx = int(train_ratio * len(text_data))\n",
    "train_data = text_data[:split_idx]\n",
    "val_data = text_data[split_idx:]"
   ]
  },
  {
   "cell_type": "code",
   "execution_count": 21,
   "id": "9ed5de1d",
   "metadata": {},
   "outputs": [],
   "source": [
    "# Create train and val data loader\n",
    "from previous_chapters import create_dataloader_v1\n",
    "torch.manual_seed(123)\n",
    "\n",
    "train_loader = create_dataloader_v1(\n",
    "    train_data,\n",
    "    batch_size=2,\n",
    "    max_length=GPT_CONFIG_124M[\"context_length\"],\n",
    "    stride=GPT_CONFIG_124M[\"context_length\"],\n",
    "    drop_last=True,\n",
    "    shuffle=True,\n",
    "    num_workers=0\n",
    ")\n",
    "\n",
    "val_loader = create_dataloader_v1(\n",
    "    val_data,\n",
    "    batch_size=2,\n",
    "    max_length=GPT_CONFIG_124M[\"context_length\"],\n",
    "    stride=GPT_CONFIG_124M[\"context_length\"],\n",
    "    drop_last=False,\n",
    "    shuffle=False,\n",
    "    num_workers=0\n",
    ")"
   ]
  },
  {
   "cell_type": "code",
   "execution_count": 22,
   "id": "841095ec",
   "metadata": {},
   "outputs": [],
   "source": [
    "# Sanity check\n",
    "if total_tokens * (train_ratio) < GPT_CONFIG_124M[\"context_length\"]:\n",
    "    print(\"Not enough tokens for the training loader. \"\n",
    "          \"Try to lower the `GPT_CONFIG_124M['context_length']` or \"\n",
    "          \"increase the `training_ratio`\")\n",
    "    \n",
    "if total_tokens * (1-train_ratio) < GPT_CONFIG_124M[\"context_length\"]:\n",
    "    print(\"Not enough tokens for the validation loader. \"\n",
    "          \"Try to lower the `GPT_CONFIG_124M['context_length']` or \"\n",
    "          \"decrease the `training_ratio`\")"
   ]
  },
  {
   "cell_type": "code",
   "execution_count": 23,
   "id": "3ed57142",
   "metadata": {},
   "outputs": [
    {
     "name": "stdout",
     "output_type": "stream",
     "text": [
      "Train loader:\n",
      "torch.Size([2, 256]) torch.Size([2, 256])\n",
      "torch.Size([2, 256]) torch.Size([2, 256])\n",
      "torch.Size([2, 256]) torch.Size([2, 256])\n",
      "torch.Size([2, 256]) torch.Size([2, 256])\n",
      "torch.Size([2, 256]) torch.Size([2, 256])\n",
      "torch.Size([2, 256]) torch.Size([2, 256])\n",
      "torch.Size([2, 256]) torch.Size([2, 256])\n",
      "torch.Size([2, 256]) torch.Size([2, 256])\n",
      "torch.Size([2, 256]) torch.Size([2, 256])\n",
      "torch.Size([2, 256]) torch.Size([2, 256])\n",
      "torch.Size([2, 256]) torch.Size([2, 256])\n",
      "torch.Size([2, 256]) torch.Size([2, 256])\n",
      "torch.Size([2, 256]) torch.Size([2, 256])\n",
      "\n",
      "Validation loader:\n",
      "torch.Size([2, 256]) torch.Size([2, 256])\n",
      "torch.Size([1, 256]) torch.Size([1, 256])\n"
     ]
    }
   ],
   "source": [
    "# Check they were created correctly\n",
    "print(\"Train loader:\")\n",
    "for x, y in train_loader:\n",
    "    print(x.shape, y.shape)\n",
    "    \n",
    "print(\"\\nValidation loader:\")\n",
    "for x, y in val_loader:\n",
    "    print(x.shape, y.shape)"
   ]
  },
  {
   "cell_type": "code",
   "execution_count": 24,
   "id": "bdf0f2cb",
   "metadata": {},
   "outputs": [
    {
     "name": "stdout",
     "output_type": "stream",
     "text": [
      "Training tokens: 6656\n",
      "Validation tokens: 768\n",
      "All tokens: 7424\n"
     ]
    }
   ],
   "source": [
    "# Another Sanity Check\n",
    "train_tokens = 0\n",
    "for input_batch, target_batch in train_loader:\n",
    "    train_tokens += input_batch.numel()\n",
    "\n",
    "val_tokens = 0\n",
    "for input_batch, target_batch in val_loader:\n",
    "    val_tokens += input_batch.numel()\n",
    "\n",
    "print(\"Training tokens:\", train_tokens)\n",
    "print(\"Validation tokens:\", val_tokens)\n",
    "print(\"All tokens:\", train_tokens + val_tokens)"
   ]
  },
  {
   "cell_type": "code",
   "execution_count": 25,
   "id": "c384f6c6",
   "metadata": {},
   "outputs": [],
   "source": [
    "# A utility function for cross entropy loss\n",
    "def calc_loss_batch(input_batch, target_batch, model, device):\n",
    "    input_batch, target_batch = input_batch.to(device), target_batch.to(device)\n",
    "    logits = model(input_batch)\n",
    "    loss = torch.nn.functional.cross_entropy(logits.flatten(0, 1), target_batch.flatten())\n",
    "    return loss"
   ]
  },
  {
   "cell_type": "code",
   "execution_count": 26,
   "id": "57873a2f",
   "metadata": {},
   "outputs": [],
   "source": [
    "# Function to compute the training and validation loss\n",
    "def calc_loss_loader(data_loader, model, device, num_batches=None):\n",
    "    total_loss = 0.\n",
    "    if len(data_loader) == 0:\n",
    "        return float(\"nan\")\n",
    "    elif num_batches is None:\n",
    "        num_batches = len(data_loader)\n",
    "    else:\n",
    "        num_batches = min(num_batches, len(data_loader))\n",
    "    for i, (input_batch, target_batch) in enumerate(data_loader):\n",
    "        if i < num_batches:\n",
    "            loss = calc_loss_batch(input_batch, target_batch, model, device)\n",
    "            total_loss += loss.item()\n",
    "        else:\n",
    "            break\n",
    "    return total_loss / num_batches"
   ]
  },
  {
   "cell_type": "code",
   "execution_count": 27,
   "id": "817bb2fb",
   "metadata": {},
   "outputs": [
    {
     "name": "stdout",
     "output_type": "stream",
     "text": [
      "Training loss: 10.993525651785044\n",
      "Validation loss: 11.013991355895996\n"
     ]
    }
   ],
   "source": [
    "# Apply the loader to the training and validation set loaders\n",
    "device = torch.device(\"cuda\" if torch.cuda.is_available() else \"cpu\")\n",
    "model.to(device) \n",
    "torch.manual_seed(123)\n",
    "with torch.no_grad(): \n",
    "    train_loss = calc_loss_loader(train_loader, model, device)\n",
    "    val_loss = calc_loss_loader(val_loader, model, device)\n",
    "\n",
    "print(\"Training loss:\", train_loss)\n",
    "print(\"Validation loss:\", val_loss)"
   ]
  },
  {
   "cell_type": "markdown",
   "id": "804f6fcf",
   "metadata": {},
   "source": [
    "# 5.2 Training an LLM"
   ]
  },
  {
   "cell_type": "code",
   "execution_count": 28,
   "id": "245ed9b7",
   "metadata": {},
   "outputs": [],
   "source": [
    "# Helper functions for monitoring steps\n",
    "def evaluate_model(model, train_loader, val_loader, device, eval_iter):\n",
    "    model.eval()\n",
    "    with torch.no_grad():\n",
    "        train_loss = calc_loss_loader(train_loader, model, device, num_batches=eval_iter)\n",
    "        val_loss = calc_loss_loader(val_loader, model, device, num_batches=eval_iter)\n",
    "    model.train()\n",
    "    return train_loss, val_loss\n",
    "\n",
    "def generate_and_print_sample(model, tokenizer, device, start_context):\n",
    "    model.eval()\n",
    "    context_size = model.pos_emb.weight.shape[0]\n",
    "    encoded = text_to_token_ids(start_context, tokenizer).to(device)\n",
    "    with torch.no_grad():\n",
    "        token_ids = generate_text_simple(\n",
    "            model=model, idx=encoded,\n",
    "            max_new_tokens=50, context_size=context_size\n",
    "        )\n",
    "    decoded_text = token_ids_to_text(token_ids, tokenizer)\n",
    "    print(decoded_text.replace(\"\\n\", \" \"))\n",
    "    model.train()"
   ]
  },
  {
   "cell_type": "code",
   "execution_count": 29,
   "id": "0dd92cd2",
   "metadata": {},
   "outputs": [],
   "source": [
    "# The main function for pretraining LLMs\n",
    "def train_model_simple(model, train_loader, val_loader, optimizer, device, num_epochs, eval_freq, eval_iter, start_context, tokenizer):\n",
    "    train_losses, val_losses, track_tokens_seen = [], [], []\n",
    "    tokens_seen, global_step = 0, -1\n",
    "    for epoch in range(num_epochs):\n",
    "        model.train()\n",
    "        for input_batch, target_batch in train_loader:\n",
    "            optimizer.zero_grad()\n",
    "            loss = calc_loss_batch(input_batch, target_batch, model, device)\n",
    "            loss.backward()\n",
    "            optimizer.step()\n",
    "            tokens_seen += input_batch.numel()\n",
    "            global_step += 1\n",
    "            if global_step % eval_freq == 0:\n",
    "                train_loss, val_loss = evaluate_model(\n",
    "                    model, train_loader, val_loader, device, eval_iter)\n",
    "                train_losses.append(train_loss)\n",
    "                val_losses.append(val_loss)\n",
    "                track_tokens_seen.append(tokens_seen)\n",
    "                print(f\"Epoch {epoch+1} (Step {global_step:06d}): Train Loss {train_loss:.3f}, Val Loss {val_loss:.3f}\")\n",
    "        generate_and_print_sample(model, tokenizer, device, start_context)\n",
    "    return train_losses, val_losses, track_tokens_seen"
   ]
  },
  {
   "cell_type": "code",
   "execution_count": 30,
   "id": "b1b255c8",
   "metadata": {},
   "outputs": [
    {
     "name": "stdout",
     "output_type": "stream",
     "text": [
      "Epoch 1 (Step 000000): Train Loss 9.603, Val Loss 9.932\n",
      "Epoch 1 (Step 000005): Train Loss 8.113, Val Loss 8.447\n",
      "Epoch 1 (Step 000010): Train Loss 6.918, Val Loss 7.510\n",
      "So far, I had the the the the the the the the the the the the the the the the the the the the the the the the the the the the the the the the the the the the the the the the the the the the the the the the the the\n",
      "Epoch 2 (Step 000015): Train Loss 6.336, Val Loss 7.217\n",
      "Epoch 2 (Step 000020): Train Loss 6.139, Val Loss 7.174\n",
      "Epoch 2 (Step 000025): Train Loss 5.907, Val Loss 7.194\n",
      "So far, I had, and, and, and, and, and, and, and, and, and, and, and, and, and, and, and, and, and, and, and, and, and, and, and, and, and\n",
      "Epoch 3 (Step 000030): Train Loss 6.027, Val Loss 7.232\n",
      "Epoch 3 (Step 000035): Train Loss 5.819, Val Loss 7.233\n",
      "So far, I had, and the, and the, and, and the, and the, and the, and, and the, and, and the, and the, and the, and, and the, and, and, and, and the. I,\n",
      "Epoch 4 (Step 000040): Train Loss 5.804, Val Loss 7.256\n",
      "Epoch 4 (Step 000045): Train Loss 5.541, Val Loss 7.044\n",
      "Epoch 4 (Step 000050): Train Loss 5.462, Val Loss 6.996\n",
      "So far, I had I had I had I had I had I had I had I had I had I had I had I had I had I was the I was the to the floor, and I was the I had I was a to the I had I had I\n",
      "Epoch 5 (Step 000055): Train Loss 5.397, Val Loss 7.035\n",
      "Epoch 5 (Step 000060): Train Loss 4.907, Val Loss 6.996\n",
      "So far, I had been a the wall, I had been to my eyes. I saw. I saw. I had been. I had been. I had been. I saw the wall. I had been. I saw, and, I saw the wall. I\n",
      "Epoch 6 (Step 000065): Train Loss 4.661, Val Loss 6.844\n",
      "Epoch 6 (Step 000070): Train Loss 4.228, Val Loss 6.951\n",
      "Epoch 6 (Step 000075): Train Loss 3.799, Val Loss 6.930\n",
      "So far, I had not at the prison.       I had been had been in the pendulum, and, and, and I had been my bos the pendulum.        I had been the wall,\n",
      "Epoch 7 (Step 000080): Train Loss 3.627, Val Loss 6.924\n",
      "Epoch 7 (Step 000085): Train Loss 3.175, Val Loss 6.936\n",
      "Epoch 7 (Step 000090): Train Loss 2.620, Val Loss 6.948\n",
      "So far, I had not at the wall, I had not at the wall. I had not that the sable draperies which en. I had not and the. I had been in. I had not, and I had not at least, I had been\n",
      "Epoch 8 (Step 000095): Train Loss 2.356, Val Loss 6.953\n",
      "Epoch 8 (Step 000100): Train Loss 2.207, Val Loss 7.006\n",
      "So far, I had not he. I had been to me, I was at length, I had I had I had been for the upon my back, I was the apartment. The surcingle. I had been in all upon my robe. I had been in\n",
      "Epoch 9 (Step 000105): Train Loss 1.829, Val Loss 7.091\n",
      "Epoch 9 (Step 000110): Train Loss 1.530, Val Loss 7.128\n",
      "Epoch 9 (Step 000115): Train Loss 1.391, Val Loss 7.179\n",
      "So far, I had not at length, I could I was confirmed. I at length unbound me, I was I, I lay upon my back, I was the apartment. I felt that I was free. I saw, and fell in my eyes. I call\n",
      "Epoch 10 (Step 000120): Train Loss 1.073, Val Loss 7.222\n",
      "Epoch 10 (Step 000125): Train Loss 0.842, Val Loss 7.206\n",
      "So far, I had not he to be in the hope of catching some faint ray of light. I proceeded for many paces; but still all was blackness and vacancy. I proceeded at once, I had not counted in vain upon the last of light flashed suddenly through\n"
     ]
    }
   ],
   "source": [
    "# Train a GPTModel instance for 10 epochs\n",
    "torch.manual_seed(123)\n",
    "model = GPTModel(GPT_CONFIG_124M)\n",
    "model.to(device)\n",
    "optimizer = torch.optim.AdamW(model.parameters(), lr=0.0004, weight_decay=0.1)\n",
    "num_epochs = 10\n",
    "train_losses, val_losses, tokens_seen = train_model_simple(\n",
    "    model, train_loader, val_loader, optimizer, device,\n",
    "    num_epochs=num_epochs, eval_freq=5, eval_iter=5,\n",
    "    start_context=\"So far, I had\", tokenizer=tokenizer)"
   ]
  },
  {
   "cell_type": "code",
   "execution_count": 31,
   "id": "b72c2236",
   "metadata": {},
   "outputs": [
    {
     "data": {
      "image/png": "[encoded data removed]",
      "text/plain": [
       "<Figure size 500x300 with 2 Axes>"
      ]
     },
     "metadata": {},
     "output_type": "display_data"
    }
   ],
   "source": [
    "# Visualizing the training and validation set losses\n",
    "import matplotlib.pyplot as plt\n",
    "from matplotlib.ticker import MaxNLocator\n",
    "\n",
    "def plot_losses(epochs_seen, tokens_seen, train_losses, val_losses):\n",
    "    fig, ax1 = plt.subplots(figsize=(5, 3))\n",
    "    ax1.plot(epochs_seen.tolist(), train_losses, label=\"Training Loss\")\n",
    "    ax1.plot(epochs_seen.tolist(), val_losses, linestyle=\"-.\", label=\"Validation Loss\")\n",
    "    ax1.set_xlabel(\"Epochs\")\n",
    "    ax1.set_ylabel(\"Loss\")\n",
    "    ax1.legend(loc=\"upper right\")\n",
    "    ax1.xaxis.set_major_locator(MaxNLocator(integer=True))\n",
    "    ax2 = ax1.twiny()\n",
    "    ax2.plot(tokens_seen, train_losses, alpha=0)\n",
    "    ax2.set_xlabel(\"Tokens Seen\")\n",
    "    fig.tight_layout()\n",
    "    plt.show()\n",
    "\n",
    "epochs_tensor = torch.linspace(0, num_epochs, len(train_losses))\n",
    "plot_losses(epochs_tensor, tokens_seen, train_losses, val_losses)"
   ]
  },
  {
   "cell_type": "markdown",
   "id": "b0c6fabe",
   "metadata": {},
   "source": [
    "# 5.3 Decoding strategies to control randomness"
   ]
  },
  {
   "cell_type": "code",
   "execution_count": 32,
   "id": "70187e98",
   "metadata": {},
   "outputs": [],
   "source": [
    "# Transfer the model back to CPU and put into evaluation mode\n",
    "model.to(\"cpu\")\n",
    "model.eval();"
   ]
  },
  {
   "cell_type": "code",
   "execution_count": 33,
   "id": "6af9a6ee",
   "metadata": {},
   "outputs": [
    {
     "name": "stdout",
     "output_type": "stream",
     "text": [
      "Output text:\n",
      " So far, I had not he to be in the hope of catching some faint ray of light. I proceeded for many paces; but still all\n"
     ]
    }
   ],
   "source": [
    "# generate some text\n",
    "tokenizer = tiktoken.get_encoding(\"gpt2\")\n",
    "token_ids = generate_text_simple(model = model,\n",
    "                                 idx = text_to_token_ids(\"So far, I had\", tokenizer),\n",
    "                                 max_new_tokens = 25,\n",
    "                                 context_size = GPT_CONFIG_124M[\"context_length\"])\n",
    "print(\"Output text:\\n\", token_ids_to_text(token_ids, tokenizer))"
   ]
  },
  {
   "cell_type": "markdown",
   "id": "8c81d9f0",
   "metadata": {},
   "source": [
    "## 5.3.1 Temperature Scaling"
   ]
  },
  {
   "cell_type": "code",
   "execution_count": 34,
   "id": "0bed1d1e",
   "metadata": {},
   "outputs": [],
   "source": [
    "# Sample small vocabulary\n",
    "vocab = {\n",
    "    \"closer\": 0,\n",
    "    \"every\": 1,\n",
    "    \"effort\": 2,\n",
    "    \"forward\": 3,\n",
    "    \"inches\": 4,\n",
    "    \"moves\": 5,\n",
    "    \"pizza\": 6,\n",
    "    \"toward\": 7,\n",
    "    \"you\": 8\n",
    "}\n",
    "inverse_vocab = {v: k for k, v in vocab.items()}"
   ]
  },
  {
   "cell_type": "code",
   "execution_count": 35,
   "id": "8e61340d",
   "metadata": {},
   "outputs": [],
   "source": [
    "# Sample logits\n",
    "next_token_logits = torch.tensor([4.51, 0.89, -1.90, 6.75, 1.63, -1.62, -1.89, 6.28, 1.79])"
   ]
  },
  {
   "cell_type": "code",
   "execution_count": 36,
   "id": "25f6b708",
   "metadata": {},
   "outputs": [
    {
     "name": "stdout",
     "output_type": "stream",
     "text": [
      "forward\n"
     ]
    }
   ],
   "source": [
    "# Greedy decoding\n",
    "probas = torch.softmax(next_token_logits, dim = 0)\n",
    "next_token_id = torch.argmax(probas).item()\n",
    "print(inverse_vocab[next_token_id])"
   ]
  },
  {
   "cell_type": "code",
   "execution_count": 37,
   "id": "d0d81332",
   "metadata": {},
   "outputs": [
    {
     "name": "stdout",
     "output_type": "stream",
     "text": [
      "toward\n"
     ]
    }
   ],
   "source": [
    "# Probabilistic sampling\n",
    "torch.manual_seed(123)\n",
    "next_token_id = torch.multinomial(probas, num_samples = 1).item()\n",
    "print(inverse_vocab[next_token_id])"
   ]
  },
  {
   "cell_type": "code",
   "execution_count": 38,
   "id": "98707797",
   "metadata": {},
   "outputs": [
    {
     "name": "stdout",
     "output_type": "stream",
     "text": [
      "71 x closer\n",
      "2 x every\n",
      "0 x effort\n",
      "544 x forward\n",
      "2 x inches\n",
      "1 x moves\n",
      "0 x pizza\n",
      "376 x toward\n",
      "4 x you\n"
     ]
    }
   ],
   "source": [
    "# Repeats the sampling 1000 times\n",
    "def print_sampled_tokens(probas):\n",
    "    torch.manual_seed(123)\n",
    "    sample = [torch.multinomial(probas, num_samples = 1).item() for i in range(1000)]\n",
    "    sampled_ids = torch.bincount(torch.tensor(sample))\n",
    "    for i, freq in enumerate(sampled_ids):\n",
    "        print(f\"{freq} x {inverse_vocab[i]}\")\n",
    "print_sampled_tokens(probas)"
   ]
  },
  {
   "cell_type": "code",
   "execution_count": 39,
   "id": "40548477",
   "metadata": {},
   "outputs": [],
   "source": [
    "# Temperature scaling\n",
    "def softmax_with_temperature(logits, temperature):\n",
    "    scaled_logits = logits / temperature\n",
    "    return torch.softmax(scaled_logits, dim = 0)"
   ]
  },
  {
   "cell_type": "code",
   "execution_count": 40,
   "id": "3c2c41f2",
   "metadata": {},
   "outputs": [
    {
     "data": {
      "image/png": "[encoded data removed]",
      "text/plain": [
       "<Figure size 500x300 with 1 Axes>"
      ]
     },
     "metadata": {},
     "output_type": "display_data"
    }
   ],
   "source": [
    "# Illustrate temperature through plotting\n",
    "temperatures = [1, 0.1, 5]\n",
    "scaled_probas = [softmax_with_temperature(next_token_logits, T) for T in temperatures]\n",
    "x = torch.arange(len(vocab))\n",
    "bar_width = 0.15\n",
    "fig, ax = plt.subplots(figsize = (5, 3))\n",
    "for i, T in enumerate(temperatures):\n",
    "    rects = ax.bar(x + i * bar_width, scaled_probas[i], bar_width, label = f'Temperature = {T}')\n",
    "ax.set_ylabel('Probability')\n",
    "ax.set_xticks(x)\n",
    "ax.set_xticklabels(vocab.keys(), rotation = 90)\n",
    "ax.legend()\n",
    "plt.tight_layout()\n",
    "plt.show()"
   ]
  },
  {
   "cell_type": "markdown",
   "id": "5c55d0d4",
   "metadata": {},
   "source": [
    "## Exercise 5.1 - Page 155"
   ]
  },
  {
   "cell_type": "code",
   "execution_count": 41,
   "id": "9eabcbf4",
   "metadata": {},
   "outputs": [
    {
     "name": "stdout",
     "output_type": "stream",
     "text": [
      "The scaled probas of word pizza when the temperature is 1\n",
      "0 x pizza\n",
      "The scaled probas of word pizza when the temperature is 0.1\n",
      "0 x pizza\n",
      "The scaled probas of word pizza when the temperature is 5\n",
      "43 x pizza\n",
      "The actual probability for word pizza is 0.0430\n"
     ]
    }
   ],
   "source": [
    "# print the sampling frequencies of word pizza\n",
    "def print_sampled_tokens_pizza(probas):\n",
    "    torch.manual_seed(123)\n",
    "    sample = [torch.multinomial(probas, num_samples = 1).item() for i in range(1000)]\n",
    "    sampled_ids = torch.bincount(torch.tensor(sample))\n",
    "    print(f\"{sampled_ids[6]} x {inverse_vocab[6]}\")\n",
    "\n",
    "for i in range(len(scaled_probas)):\n",
    "    print(f\"The scaled probas of word pizza when the temperature is {temperatures[i]}\")\n",
    "    print_sampled_tokens_pizza(scaled_probas[i])\n",
    "print(f\"The actual probability for word pizza is {scaled_probas[2][6]:.4f}\")"
   ]
  },
  {
   "cell_type": "markdown",
   "id": "5748ce16",
   "metadata": {},
   "source": [
    "## 5.3.2 Top-k sampling"
   ]
  },
  {
   "cell_type": "code",
   "execution_count": 42,
   "id": "465aecc9",
   "metadata": {},
   "outputs": [
    {
     "name": "stdout",
     "output_type": "stream",
     "text": [
      "Top logits: tensor([6.7500, 6.2800, 4.5100])\n",
      "Top positions: tensor([3, 7, 0])\n"
     ]
    }
   ],
   "source": [
    "# Implement top-k sampling\n",
    "top_k = 3\n",
    "top_logits, top_pos = torch.topk(next_token_logits, top_k)\n",
    "print(\"Top logits:\", top_logits)\n",
    "print(\"Top positions:\", top_pos)"
   ]
  },
  {
   "cell_type": "code",
   "execution_count": 43,
   "id": "5165e884",
   "metadata": {},
   "outputs": [
    {
     "name": "stdout",
     "output_type": "stream",
     "text": [
      "tensor([4.5100,   -inf,   -inf, 6.7500,   -inf,   -inf,   -inf, 6.2800,   -inf])\n"
     ]
    }
   ],
   "source": [
    "# Add mask to logits\n",
    "new_logits = torch.where(condition = next_token_logits < top_logits[-1], input = torch.tensor(float('-inf')), other = next_token_logits)\n",
    "print(new_logits)"
   ]
  },
  {
   "cell_type": "code",
   "execution_count": 44,
   "id": "afcc6457",
   "metadata": {},
   "outputs": [
    {
     "name": "stdout",
     "output_type": "stream",
     "text": [
      "tensor([0.0615, 0.0000, 0.0000, 0.5775, 0.0000, 0.0000, 0.0000, 0.3610, 0.0000])\n"
     ]
    }
   ],
   "source": [
    "# Apply softmax to the masked logits\n",
    "topk_probas = torch.softmax(new_logits, dim = 0)\n",
    "print(topk_probas)"
   ]
  },
  {
   "cell_type": "markdown",
   "id": "235f34c2",
   "metadata": {},
   "source": [
    "## 5.3.3 Modifying the text generation function"
   ]
  },
  {
   "cell_type": "code",
   "execution_count": 45,
   "id": "39577c56",
   "metadata": {},
   "outputs": [],
   "source": [
    "# A modified text generation function with more diversity\n",
    "def generate(model, idx, max_new_tokens, context_size, temperature = 0.0, top_k = None, eos_id = None):\n",
    "    for _ in range(max_new_tokens):\n",
    "        idx_cond = idx[:, -context_size:]\n",
    "        with torch.no_grad():\n",
    "            logits = model(idx_cond)\n",
    "        logits = logits[:, -1, :]\n",
    "        if top_k is not None:\n",
    "            top_logits, _ = torch.topk(logits, top_k)\n",
    "            min_val = top_logits[:, -1]\n",
    "            logits = torch.where(logits < min_val, torch.tensor(float(\"-inf\")).to(logits.device), logits)\n",
    "        if temperature > 0.0:\n",
    "            logits = logits / temperature\n",
    "            logits = logits - logits.max(dim = -1, keepdim=True).values # numerical stability tip\n",
    "            probs = torch.softmax(logits, dim = -1)\n",
    "            idx_next = torch.multinomial(probs, num_samples = 1)\n",
    "        else:\n",
    "            idx_next = torch.argmax(logits, dim = -1, keepdim=True)\n",
    "        if idx_next == eos_id:\n",
    "            break\n",
    "        idx = torch.cat((idx, idx_next), dim = 1)\n",
    "    return idx"
   ]
  },
  {
   "cell_type": "code",
   "execution_count": 46,
   "id": "0b49d080",
   "metadata": {},
   "outputs": [
    {
     "name": "stdout",
     "output_type": "stream",
     "text": [
      "Output text:\n",
      " So far, I had courage to encounter to afterward long inconsistent with it was the sweep of despair.\n"
     ]
    }
   ],
   "source": [
    "# Test the new generate function\n",
    "torch.manual_seed(123)\n",
    "token_ids = generate(\n",
    "    model=model,\n",
    "    idx=text_to_token_ids(\"So far, I had\", tokenizer),\n",
    "    max_new_tokens=15,\n",
    "    context_size=GPT_CONFIG_124M[\"context_length\"],\n",
    "    top_k=25,\n",
    "    temperature=1.4\n",
    ")\n",
    "print(\"Output text:\\n\", token_ids_to_text(token_ids, tokenizer))"
   ]
  },
  {
   "cell_type": "markdown",
   "id": "ce91ae2f",
   "metadata": {},
   "source": [
    "## Exercise 5.2 - Page 158"
   ]
  },
  {
   "cell_type": "code",
   "execution_count": 47,
   "id": "af09d485",
   "metadata": {},
   "outputs": [
    {
     "name": "stdout",
     "output_type": "stream",
     "text": [
      "Current temperature: 0.1, current k: 5\n",
      "Output text:\n",
      " So far, I had read in every, with great effort to be. I had been long the\n",
      "Current temperature: 0.1, current k: 10\n",
      "Output text:\n",
      " So far, I had not at length, I felt that I could be. The whole thought was\n",
      "Current temperature: 0.1, current k: 20\n",
      "Output text:\n",
      " So far, I had not he to be in the hope of catching some faint ray of light.\n",
      "Current temperature: 10, current k: 5\n",
      "Output text:\n",
      " So far, I had not that it to see long agony; or twelve un of mind. I\n",
      "Current temperature: 10, current k: 10\n",
      "Output text:\n",
      " So far, I had become. The sentence for vault; is for that the ag this long—\n",
      "Current temperature: 10, current k: 20\n",
      "Output text:\n",
      " So far, I had no brainidden would and food as my dungeon no guess as some what have\n",
      "Current temperature: 100, current k: 5\n",
      "Output text:\n",
      " So far, I had counted in all, as my fancy for its no farther. The sentence—\n",
      "Current temperature: 100, current k: 10\n",
      "Output text:\n",
      " So far, I had to the prison as in every human torture. The ground of this thought:\n",
      "Current temperature: 100, current k: 20\n",
      "Output text:\n",
      " So far, I had escaped as the unce su agony. There existence, my mind or death\n"
     ]
    }
   ],
   "source": [
    "# Play around with different temperatures and top-k settings\n",
    "torch.manual_seed(123)\n",
    "temperatures = [0.1, 10, 100]\n",
    "top_ks = [5, 10, 20]\n",
    "for temperature in temperatures:\n",
    "    for k in top_ks:\n",
    "        token_ids = generate(\n",
    "            model=model,\n",
    "            idx=text_to_token_ids(\"So far, I had\", tokenizer),\n",
    "            max_new_tokens=15,\n",
    "            context_size=GPT_CONFIG_124M[\"context_length\"],\n",
    "            top_k=k,\n",
    "            temperature=temperature\n",
    "        )\n",
    "        print(f\"Current temperature: {temperature}, current k: {k}\")\n",
    "        print(\"Output text:\\n\", token_ids_to_text(token_ids, tokenizer))"
   ]
  },
  {
   "cell_type": "markdown",
   "id": "7182a0a1",
   "metadata": {},
   "source": [
    "## Exercise 5.3 - Page 159"
   ]
  },
  {
   "cell_type": "code",
   "execution_count": 48,
   "id": "3bfbbb99",
   "metadata": {},
   "outputs": [
    {
     "name": "stdout",
     "output_type": "stream",
     "text": [
      "Output text:\n",
      " So far, I had not he to be in the hope of catching some faint ray of light. I proceeded for many paces; but still all\n"
     ]
    }
   ],
   "source": [
    "# Force deterministic behavior\n",
    "torch.manual_seed(123)\n",
    "token_ids = generate(\n",
    "    model=model,\n",
    "    idx=text_to_token_ids(\"So far, I had\", tokenizer),\n",
    "    max_new_tokens=25,\n",
    "    context_size=GPT_CONFIG_124M[\"context_length\"],\n",
    "    top_k=1,\n",
    "    temperature=0\n",
    ")\n",
    "print(\"Output text:\\n\", token_ids_to_text(token_ids, tokenizer))"
   ]
  },
  {
   "cell_type": "markdown",
   "id": "9eeb4409",
   "metadata": {},
   "source": [
    "# 5.4 Loading and saving model weights in PyTorch"
   ]
  },
  {
   "cell_type": "code",
   "execution_count": 49,
   "id": "3e7d911a",
   "metadata": {},
   "outputs": [],
   "source": [
    "# Save the model\n",
    "# torch.save(model.state_dict(), \"model.pth\")"
   ]
  },
  {
   "cell_type": "code",
   "execution_count": 50,
   "id": "aeaf6461",
   "metadata": {},
   "outputs": [],
   "source": [
    "# Load the model\n",
    "# model = GPTModel(GPT_CONFIG_124M)\n",
    "# model.load_state_dict(torch.load(\"model.pth\", map_location = device))\n",
    "# model.eval();"
   ]
  },
  {
   "cell_type": "code",
   "execution_count": null,
   "id": "9ff5d92b",
   "metadata": {},
   "outputs": [],
   "source": [
    "# Save the model and optimizer together\n",
    "# torch.save({\"model_state_dict\": model.state_dict(),\n",
    "            # \"optimizer_state_dict\": optimizer.state_dict()}, \"model_and_optimizer.pth\")"
   ]
  },
  {
   "cell_type": "code",
   "execution_count": null,
   "id": "ea891527",
   "metadata": {},
   "outputs": [],
   "source": [
    "# Restore the model and optimizer states\n",
    "# checkpoint = torch.load(\"model_and_optimizer.pth\", map_location = device)\n",
    "# model = GPTModel(GPT_CONFIG_124M)\n",
    "# model.load_state_dict(checkpoint[\"model_state_dict\"])\n",
    "# optimizer = torch.optim.AdamW(model.parameters(), lr=5e-4, weight_decay=0.1)\n",
    "# optimizer.load_state_dict(checkpoint[\"optimizer_state_dict\"])\n",
    "# model.train();"
   ]
  },
  {
   "cell_type": "markdown",
   "id": "f61f1944",
   "metadata": {},
   "source": [
    "## Exercise 5.4 - Page 160"
   ]
  },
  {
   "cell_type": "code",
   "execution_count": 53,
   "id": "b64b5a2a",
   "metadata": {},
   "outputs": [
    {
     "name": "stdout",
     "output_type": "stream",
     "text": [
      "Epoch 1 (Step 000000): Train Loss 0.799, Val Loss 7.288\n",
      "Epoch 1 (Step 000005): Train Loss 0.662, Val Loss 7.359\n",
      "Epoch 1 (Step 000010): Train Loss 0.642, Val Loss 7.391\n",
      "So far, I had not he who with that long agony; but no farther.  Nor had I erred in my calculations—nor had I endured in vain. I at length felt that I was free. The surcingle hung in ribands from my eyes\n"
     ]
    }
   ],
   "source": [
    "# Continue pretraining after loading\n",
    "checkpoint = torch.load(\"model_and_optimizer.pth\")\n",
    "model = GPTModel(GPT_CONFIG_124M)\n",
    "model.load_state_dict(checkpoint[\"model_state_dict\"])\n",
    "optimizer = torch.optim.AdamW(model.parameters(), lr=5e-4, weight_decay=0.1)\n",
    "optimizer.load_state_dict(checkpoint[\"optimizer_state_dict\"])\n",
    "train_losses, val_losses, tokens_seen = train_model_simple(\n",
    "    model, train_loader, val_loader, optimizer, device,\n",
    "    num_epochs=1, eval_freq=5, eval_iter=5,\n",
    "    start_context=\"So far, I had\", tokenizer=tokenizer)"
   ]
  },
  {
   "cell_type": "markdown",
   "id": "52e0ccc8",
   "metadata": {},
   "source": [
    "# Section 5.5 Loading pretrained weights from OpenAI\n",
    "For section 5.5 and other exercises, please check the section-5-5-code.ipynb file."
   ]
  }
 ],
 "metadata": {
  "kernelspec": {
   "display_name": "Learning-Notes_LLM-from-Scratch",
   "language": "python",
   "name": "python3"
  },
  "language_info": {
   "codemirror_mode": {
    "name": "ipython",
    "version": 3
   },
   "file_extension": ".py",
   "mimetype": "text/x-python",
   "name": "python",
   "nbconvert_exporter": "python",
   "pygments_lexer": "ipython3",
   "version": "3.10.18"
  }
 },
 "nbformat": 4,
 "nbformat_minor": 5
}
