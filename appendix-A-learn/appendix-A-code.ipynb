{
 "cells": [
  {
   "cell_type": "markdown",
   "id": "af0f3ad4",
   "metadata": {},
   "source": [
    "# A.1 - What is PyTorch?"
   ]
  },
  {
   "cell_type": "markdown",
   "id": "d8e8f154",
   "metadata": {},
   "source": [
    "## A.1.3 - Installing PyTorch"
   ]
  },
  {
   "cell_type": "code",
   "execution_count": 52,
   "id": "3ceb1184",
   "metadata": {},
   "outputs": [
    {
     "data": {
      "text/plain": [
       "'2.2.2'"
      ]
     },
     "execution_count": 52,
     "metadata": {},
     "output_type": "execute_result"
    }
   ],
   "source": [
    "# Import PyTorch and check version\n",
    "import torch\n",
    "torch.__version__ # 2.2.2"
   ]
  },
  {
   "cell_type": "code",
   "execution_count": 53,
   "id": "206f6794",
   "metadata": {},
   "outputs": [
    {
     "data": {
      "text/plain": [
       "False"
      ]
     },
     "execution_count": 53,
     "metadata": {},
     "output_type": "execute_result"
    }
   ],
   "source": [
    "# Check CUDA availability\n",
    "torch.cuda.is_available() # False"
   ]
  },
  {
   "cell_type": "code",
   "execution_count": 54,
   "id": "689ffe6d",
   "metadata": {},
   "outputs": [
    {
     "name": "stdout",
     "output_type": "stream",
     "text": [
      "False\n"
     ]
    }
   ],
   "source": [
    "# Check MPS availability (for Apple M1 chip)\n",
    "print(torch.backends.mps.is_available()) # False"
   ]
  },
  {
   "cell_type": "markdown",
   "id": "131fea9e",
   "metadata": {},
   "source": [
    "## Exercise A.1 - Page 257\n",
    "Finished installing and setting up PyTorch on my computer."
   ]
  },
  {
   "cell_type": "markdown",
   "id": "3c9bce84",
   "metadata": {},
   "source": [
    "## Exercise A.2 - Page 257\n",
    "Finished running the supplementary code and everything outputed correctly. My environment is set up correctly."
   ]
  },
  {
   "cell_type": "markdown",
   "id": "f1070551",
   "metadata": {},
   "source": [
    "# A.2 - Understanding tensors"
   ]
  },
  {
   "cell_type": "markdown",
   "id": "74fbb45a",
   "metadata": {},
   "source": [
    "## A.2.1 - Scalars, vectors, matrices, and tensors"
   ]
  },
  {
   "cell_type": "code",
   "execution_count": 55,
   "id": "bee06ec9",
   "metadata": {},
   "outputs": [],
   "source": [
    "# Initialize tensors with various dimensions\n",
    "tensor0d = torch.tensor(1)\n",
    "tensor1d = torch.tensor([1, 2, 3])\n",
    "tensor2d = torch.tensor([[1, 2], [3, 4]])\n",
    "tensor3d = torch.tensor([[[1, 2], [3, 4]], [[5, 6], [7, 8]]])\n"
   ]
  },
  {
   "cell_type": "markdown",
   "id": "b76eb627",
   "metadata": {},
   "source": [
    "## A.2.2 - Tensor data types"
   ]
  },
  {
   "cell_type": "code",
   "execution_count": 56,
   "id": "054b03b0",
   "metadata": {},
   "outputs": [
    {
     "name": "stdout",
     "output_type": "stream",
     "text": [
      "torch.int64\n"
     ]
    }
   ],
   "source": [
    "# Tensor data types\n",
    "tensor1d = torch.tensor([1, 2, 3])\n",
    "print(tensor1d.dtype)"
   ]
  },
  {
   "cell_type": "code",
   "execution_count": 57,
   "id": "4dc593aa",
   "metadata": {},
   "outputs": [
    {
     "name": "stdout",
     "output_type": "stream",
     "text": [
      "torch.float32\n"
     ]
    }
   ],
   "source": [
    "# Intialize float tensor\n",
    "floatvec = torch.tensor([1.0, 2.0, 3.0])\n",
    "print(floatvec.dtype)"
   ]
  },
  {
   "cell_type": "code",
   "execution_count": 58,
   "id": "73e5417f",
   "metadata": {},
   "outputs": [
    {
     "name": "stdout",
     "output_type": "stream",
     "text": [
      "torch.float32\n"
     ]
    }
   ],
   "source": [
    "# Convert to float data type\n",
    "floatvec = tensor1d.to(torch.float32)\n",
    "print(floatvec.dtype)"
   ]
  },
  {
   "cell_type": "markdown",
   "id": "d28f9a86",
   "metadata": {},
   "source": [
    "## A.2.3 - Common PyTorch tensor operations"
   ]
  },
  {
   "cell_type": "code",
   "execution_count": 59,
   "id": "61323328",
   "metadata": {},
   "outputs": [
    {
     "name": "stdout",
     "output_type": "stream",
     "text": [
      "tensor([[1, 2, 3],\n",
      "        [4, 5, 6]])\n"
     ]
    }
   ],
   "source": [
    "# Initialize a tensor\n",
    "tensor2d = torch.tensor([[1, 2, 3], [4, 5, 6]])\n",
    "print(tensor2d)"
   ]
  },
  {
   "cell_type": "code",
   "execution_count": 60,
   "id": "7b2fd896",
   "metadata": {},
   "outputs": [
    {
     "name": "stdout",
     "output_type": "stream",
     "text": [
      "torch.Size([2, 3])\n"
     ]
    }
   ],
   "source": [
    "# Tensor shape - 2 rows and 3 columns\n",
    "print(tensor2d.shape)"
   ]
  },
  {
   "cell_type": "code",
   "execution_count": 61,
   "id": "31b29bdd",
   "metadata": {},
   "outputs": [
    {
     "name": "stdout",
     "output_type": "stream",
     "text": [
      "tensor([[1, 2],\n",
      "        [3, 4],\n",
      "        [5, 6]])\n"
     ]
    }
   ],
   "source": [
    "# Tensor reshaping\n",
    "print(tensor2d.reshape(3, 2))"
   ]
  },
  {
   "cell_type": "code",
   "execution_count": 62,
   "id": "a8489970",
   "metadata": {},
   "outputs": [
    {
     "name": "stdout",
     "output_type": "stream",
     "text": [
      "tensor([[1, 2],\n",
      "        [3, 4],\n",
      "        [5, 6]])\n"
     ]
    }
   ],
   "source": [
    "# Tensor views\n",
    "print(tensor2d.view(3, 2))"
   ]
  },
  {
   "cell_type": "code",
   "execution_count": 63,
   "id": "25e80e80",
   "metadata": {},
   "outputs": [
    {
     "name": "stdout",
     "output_type": "stream",
     "text": [
      "tensor([[1, 4],\n",
      "        [2, 5],\n",
      "        [3, 6]])\n"
     ]
    }
   ],
   "source": [
    "# Tensor transposing\n",
    "print(tensor2d.T)"
   ]
  },
  {
   "cell_type": "code",
   "execution_count": 64,
   "id": "152a20d6",
   "metadata": {},
   "outputs": [
    {
     "name": "stdout",
     "output_type": "stream",
     "text": [
      "tensor([[14, 32],\n",
      "        [32, 77]])\n"
     ]
    }
   ],
   "source": [
    "# Tensor multiplication using matmul\n",
    "print(tensor2d.matmul(tensor2d.T))"
   ]
  },
  {
   "cell_type": "code",
   "execution_count": 65,
   "id": "9ea03ea1",
   "metadata": {},
   "outputs": [
    {
     "name": "stdout",
     "output_type": "stream",
     "text": [
      "tensor([[14, 32],\n",
      "        [32, 77]])\n"
     ]
    }
   ],
   "source": [
    "# Tensor multiplication using @\n",
    "print(tensor2d @ tensor2d.T)"
   ]
  },
  {
   "cell_type": "markdown",
   "id": "3e5b9954",
   "metadata": {},
   "source": [
    "# A.3 - Seeing models as computation graphs"
   ]
  },
  {
   "cell_type": "code",
   "execution_count": 66,
   "id": "f0f168ef",
   "metadata": {},
   "outputs": [
    {
     "name": "stdout",
     "output_type": "stream",
     "text": [
      "The loss is 0.0851878821849823.\n"
     ]
    }
   ],
   "source": [
    "# Seeing models as computation graphs\n",
    "import torch.nn.functional as F\n",
    "y = torch.tensor([1.0])             # True label\n",
    "x1 = torch.tensor([1.1])            # Input feature\n",
    "w1 = torch.tensor([2.2])            # Weight parameter\n",
    "b = torch.tensor([0.0])             # Bias unit\n",
    "z = x1 * w1 + b                     # Net input\n",
    "a = torch.sigmoid(z)                # Activation and output\n",
    "loss = F.binary_cross_entropy(a, y)\n",
    "print(f\"The loss is {loss}.\")"
   ]
  },
  {
   "cell_type": "markdown",
   "id": "765cd174",
   "metadata": {},
   "source": [
    "# A.4 - Automatic differentiation made easy"
   ]
  },
  {
   "cell_type": "code",
   "execution_count": 67,
   "id": "843fd701",
   "metadata": {},
   "outputs": [],
   "source": [
    "# Computing gradients via autograd\n",
    "from torch.autograd import grad\n",
    "y = torch.tensor([1.0])\n",
    "x1 = torch.tensor([1.1])\n",
    "w1 = torch.tensor([2.2], requires_grad=True)\n",
    "b = torch.tensor([0.0], requires_grad=True)"
   ]
  },
  {
   "cell_type": "code",
   "execution_count": 68,
   "id": "b26a8e1a",
   "metadata": {},
   "outputs": [
    {
     "name": "stdout",
     "output_type": "stream",
     "text": [
      "(tensor([-0.0898]),)\n",
      "(tensor([-0.0817]),)\n"
     ]
    }
   ],
   "source": [
    "# Using grad function manually\n",
    "z = x1 * w1 + b\n",
    "a = torch.sigmoid(z)\n",
    "loss = F.binary_cross_entropy(a, y)\n",
    "grad_L_w1 = grad(loss, w1, retain_graph=True)\n",
    "grad_L_b = grad(loss, b, retain_graph=True)\n",
    "print(grad_L_w1)\n",
    "print(grad_L_b)"
   ]
  },
  {
   "cell_type": "code",
   "execution_count": 69,
   "id": "68288eec",
   "metadata": {},
   "outputs": [
    {
     "name": "stdout",
     "output_type": "stream",
     "text": [
      "tensor([-0.0898])\n",
      "tensor([-0.0817])\n"
     ]
    }
   ],
   "source": [
    "# Automated process - PyTorch compute the gradients of all the leaf nodes in this graph.\n",
    "loss.backward()\n",
    "print(w1.grad)\n",
    "print(b.grad)"
   ]
  },
  {
   "cell_type": "markdown",
   "id": "0184a39b",
   "metadata": {},
   "source": [
    "# A.5 - Implementing multilayer NN"
   ]
  },
  {
   "cell_type": "code",
   "execution_count": 70,
   "id": "85936a3d",
   "metadata": {},
   "outputs": [],
   "source": [
    "# A multilayer perceptron with two hidden layers\n",
    "class NeuralNetwork(torch.nn.Module):\n",
    "    def __init__(self, num_inputs, num_outputs):\n",
    "        super().__init__()\n",
    "        self.layers = torch.nn.Sequential(\n",
    "            torch.nn.Linear(num_inputs, 30), # 1st hidden layer\n",
    "            torch.nn.ReLU(),\n",
    "            torch.nn.Linear(30, 20), # 2nd hidden layer\n",
    "            torch.nn.ReLU(),\n",
    "            torch.nn.Linear(20, num_outputs) # output layer\n",
    "        )\n",
    "    \n",
    "    def forward(self, x):\n",
    "        return self.layers(x)"
   ]
  },
  {
   "cell_type": "code",
   "execution_count": 71,
   "id": "6a044467",
   "metadata": {},
   "outputs": [
    {
     "name": "stdout",
     "output_type": "stream",
     "text": [
      "NeuralNetwork(\n",
      "  (layers): Sequential(\n",
      "    (0): Linear(in_features=50, out_features=30, bias=True)\n",
      "    (1): ReLU()\n",
      "    (2): Linear(in_features=30, out_features=20, bias=True)\n",
      "    (3): ReLU()\n",
      "    (4): Linear(in_features=20, out_features=3, bias=True)\n",
      "  )\n",
      ")\n"
     ]
    }
   ],
   "source": [
    "# Print model description\n",
    "model = NeuralNetwork(50, 3)\n",
    "print(model)"
   ]
  },
  {
   "cell_type": "code",
   "execution_count": 72,
   "id": "34823613",
   "metadata": {},
   "outputs": [
    {
     "name": "stdout",
     "output_type": "stream",
     "text": [
      "Total number of trainable model parameters: 2213\n"
     ]
    }
   ],
   "source": [
    "# Print the total number of trainable model parameters\n",
    "num_params = sum(p.numel() for p in model.parameters() if p.requires_grad)\n",
    "print(f\"Total number of trainable model parameters: {num_params}\")"
   ]
  },
  {
   "cell_type": "code",
   "execution_count": 73,
   "id": "180f84bf",
   "metadata": {},
   "outputs": [
    {
     "name": "stdout",
     "output_type": "stream",
     "text": [
      "Parameter containing:\n",
      "tensor([[-0.0562, -0.0722, -0.0565,  ..., -0.0430,  0.0411, -0.0381],\n",
      "        [ 0.0316, -0.1174, -0.0950,  ...,  0.0886, -0.0235,  0.1009],\n",
      "        [ 0.0683,  0.0859, -0.0479,  ...,  0.0815,  0.1155,  0.0812],\n",
      "        ...,\n",
      "        [ 0.1331,  0.0627,  0.0924,  ..., -0.0744,  0.0756,  0.1294],\n",
      "        [ 0.0401,  0.0788,  0.0775,  ..., -0.1309, -0.1004, -0.0429],\n",
      "        [-0.0544, -0.0821, -0.0656,  ..., -0.1353, -0.0471, -0.1180]],\n",
      "       requires_grad=True)\n"
     ]
    }
   ],
   "source": [
    "# Print the weight matrix - Random output each time\n",
    "print(model.layers[0].weight)"
   ]
  },
  {
   "cell_type": "code",
   "execution_count": 74,
   "id": "ed31ed25",
   "metadata": {},
   "outputs": [
    {
     "name": "stdout",
     "output_type": "stream",
     "text": [
      "torch.Size([30, 50])\n"
     ]
    }
   ],
   "source": [
    "# Print the shape of the weight matrix\n",
    "print(model.layers[0].weight.shape)"
   ]
  },
  {
   "cell_type": "code",
   "execution_count": 75,
   "id": "5a370ee0",
   "metadata": {},
   "outputs": [
    {
     "name": "stdout",
     "output_type": "stream",
     "text": [
      "Parameter containing:\n",
      "tensor([-0.0765,  0.0409, -0.0436,  0.0777,  0.1362, -0.0983, -0.0963,  0.0300,\n",
      "        -0.1165, -0.1015, -0.0251,  0.0865, -0.1027, -0.0449,  0.0783,  0.0033,\n",
      "        -0.1055,  0.1195, -0.0214,  0.0571, -0.0415,  0.1186,  0.0293,  0.0410,\n",
      "         0.1317,  0.1336,  0.1372,  0.1015,  0.0797, -0.1064],\n",
      "       requires_grad=True)\n"
     ]
    }
   ],
   "source": [
    "# Print the bias\n",
    "print(model.layers[0].bias)"
   ]
  },
  {
   "cell_type": "code",
   "execution_count": 76,
   "id": "5398f3f1",
   "metadata": {},
   "outputs": [
    {
     "name": "stdout",
     "output_type": "stream",
     "text": [
      "torch.Size([30])\n"
     ]
    }
   ],
   "source": [
    "# Print the size for bias\n",
    "print(model.layers[0].bias.shape)"
   ]
  },
  {
   "cell_type": "code",
   "execution_count": 77,
   "id": "b088aee5",
   "metadata": {},
   "outputs": [
    {
     "name": "stdout",
     "output_type": "stream",
     "text": [
      "Parameter containing:\n",
      "tensor([[-0.0577,  0.0047, -0.0702,  ...,  0.0222,  0.1260,  0.0865],\n",
      "        [ 0.0502,  0.0307,  0.0333,  ...,  0.0951,  0.1134, -0.0297],\n",
      "        [ 0.1077, -0.1108,  0.0122,  ...,  0.0108, -0.1049, -0.1063],\n",
      "        ...,\n",
      "        [-0.0787,  0.1259,  0.0803,  ...,  0.1218,  0.1303, -0.1351],\n",
      "        [ 0.1359,  0.0175, -0.0673,  ...,  0.0674,  0.0676,  0.1058],\n",
      "        [ 0.0790,  0.1343, -0.0293,  ...,  0.0344, -0.0971, -0.0509]],\n",
      "       requires_grad=True)\n"
     ]
    }
   ],
   "source": [
    "# Make the random number initialization reproducible\n",
    "torch.manual_seed(123)\n",
    "model = NeuralNetwork(50, 3)\n",
    "print(model.layers[0].weight)"
   ]
  },
  {
   "cell_type": "code",
   "execution_count": 78,
   "id": "27d476d2",
   "metadata": {},
   "outputs": [
    {
     "name": "stdout",
     "output_type": "stream",
     "text": [
      "tensor([[-0.1262,  0.1080, -0.1792]], grad_fn=<AddmmBackward0>)\n"
     ]
    }
   ],
   "source": [
    "# A forward pass\n",
    "torch.manual_seed(123)\n",
    "X = torch.rand((1, 50))\n",
    "output = model(X)\n",
    "print(output)"
   ]
  },
  {
   "cell_type": "code",
   "execution_count": 79,
   "id": "732c9284",
   "metadata": {},
   "outputs": [
    {
     "name": "stdout",
     "output_type": "stream",
     "text": [
      "tensor([[-0.1262,  0.1080, -0.1792]])\n"
     ]
    }
   ],
   "source": [
    "# For prediction after training\n",
    "with torch.no_grad():\n",
    "    output = model(X)\n",
    "print(output)"
   ]
  },
  {
   "cell_type": "code",
   "execution_count": 80,
   "id": "7a53ba8e",
   "metadata": {},
   "outputs": [
    {
     "name": "stdout",
     "output_type": "stream",
     "text": [
      "tensor([[0.3113, 0.3934, 0.2952]])\n"
     ]
    }
   ],
   "source": [
    "# Compute class-membership probabilities\n",
    "with torch.no_grad():\n",
    "    output = torch.softmax(model(X), dim=1)\n",
    "print(output)"
   ]
  },
  {
   "cell_type": "markdown",
   "id": "1f0cf19e",
   "metadata": {},
   "source": [
    "# A.6 - Setting up efficient data loaders"
   ]
  },
  {
   "cell_type": "code",
   "execution_count": 81,
   "id": "20eea186",
   "metadata": {},
   "outputs": [],
   "source": [
    "# Creating a small toy dataset\n",
    "X_train = torch.tensor([\n",
    "    [-1.2, 3.1],\n",
    "    [-0.9, 2.9],\n",
    "    [-0.5, 2.6],\n",
    "    [2.3, -1.1],\n",
    "    [2.7, -1.5]\n",
    "])\n",
    "y_train = torch.tensor([0,0,0,1,1])\n",
    "X_test = torch.tensor([\n",
    "    [-0.8, 2.8],\n",
    "    [2.6, -1.6]\n",
    "])\n",
    "y_test = torch.tensor([0,1])"
   ]
  },
  {
   "cell_type": "code",
   "execution_count": 82,
   "id": "2fc74110",
   "metadata": {},
   "outputs": [
    {
     "name": "stdout",
     "output_type": "stream",
     "text": [
      "5\n"
     ]
    }
   ],
   "source": [
    "# Defining a custom Dataset class\n",
    "from torch.utils.data import Dataset\n",
    "class ToyDataset(Dataset):\n",
    "    def __init__(self, X, y):\n",
    "        self.features = X\n",
    "        self.labels = y\n",
    "    \n",
    "    def __getitem__(self, index):\n",
    "        this_x = self.features[index]\n",
    "        this_y = self.labels[index]\n",
    "        return this_x, this_y\n",
    "    \n",
    "    def __len__(self):\n",
    "        return self.labels.shape[0]\n",
    "\n",
    "train_ds = ToyDataset(X_train, y_train)\n",
    "test_ds = ToyDataset(X_test, y_test)\n",
    "print(len(train_ds))"
   ]
  },
  {
   "cell_type": "code",
   "execution_count": 83,
   "id": "b1873928",
   "metadata": {},
   "outputs": [],
   "source": [
    "# Instantiating data loaders\n",
    "from torch.utils.data import DataLoader\n",
    "torch.manual_seed(123)\n",
    "\n",
    "train_loader = DataLoader(\n",
    "    dataset = train_ds,\n",
    "    batch_size = 2,\n",
    "    shuffle = True,\n",
    "    num_workers = 0 # The number of background processes\n",
    ")\n",
    "\n",
    "test_loader = DataLoader(\n",
    "    dataset = test_ds,\n",
    "    batch_size = 2,\n",
    "    shuffle = False,\n",
    "    num_workers = 0\n",
    ")"
   ]
  },
  {
   "cell_type": "code",
   "execution_count": 84,
   "id": "6fbbf161",
   "metadata": {},
   "outputs": [
    {
     "name": "stdout",
     "output_type": "stream",
     "text": [
      "Batch 1: tensor([[ 2.3000, -1.1000],\n",
      "        [-0.9000,  2.9000]]) tensor([1, 0])\n",
      "Batch 2: tensor([[-1.2000,  3.1000],\n",
      "        [-0.5000,  2.6000]]) tensor([0, 0])\n",
      "Batch 3: tensor([[ 2.7000, -1.5000]]) tensor([1])\n"
     ]
    }
   ],
   "source": [
    "# Print the training data from data loader\n",
    "for idx, (x, y) in enumerate(train_loader):\n",
    "    print(f'Batch {idx + 1}:', x, y)"
   ]
  },
  {
   "cell_type": "code",
   "execution_count": 85,
   "id": "0e82b260",
   "metadata": {},
   "outputs": [],
   "source": [
    "# Drop the last batch\n",
    "train_loader = DataLoader(\n",
    "    dataset = train_ds,\n",
    "    batch_size = 2,\n",
    "    shuffle = True,\n",
    "    num_workers = 0, # The number of background processes\n",
    "    drop_last = True\n",
    ")"
   ]
  },
  {
   "cell_type": "code",
   "execution_count": 86,
   "id": "00dfb0f8",
   "metadata": {},
   "outputs": [
    {
     "name": "stdout",
     "output_type": "stream",
     "text": [
      "Batch 1: tensor([[-1.2000,  3.1000],\n",
      "        [-0.5000,  2.6000]]) tensor([0, 0])\n",
      "Batch 2: tensor([[ 2.3000, -1.1000],\n",
      "        [-0.9000,  2.9000]]) tensor([1, 0])\n"
     ]
    }
   ],
   "source": [
    "# Print the training data from data loader\n",
    "for idx, (x, y) in enumerate(train_loader):\n",
    "    print(f'Batch {idx + 1}:', x, y)"
   ]
  },
  {
   "cell_type": "markdown",
   "id": "ad4f7ad9",
   "metadata": {},
   "source": [
    "# A.7 - A typical training loop"
   ]
  },
  {
   "cell_type": "code",
   "execution_count": 87,
   "id": "b20e6c60",
   "metadata": {},
   "outputs": [
    {
     "name": "stdout",
     "output_type": "stream",
     "text": [
      "Epoch: 1/3 | Batch 0/2 | Train Loss: 0.74874\n",
      "Epoch: 1/3 | Batch 1/2 | Train Loss: 0.64503\n",
      "Epoch: 2/3 | Batch 0/2 | Train Loss: 0.44226\n",
      "Epoch: 2/3 | Batch 1/2 | Train Loss: 0.12562\n",
      "Epoch: 3/3 | Batch 0/2 | Train Loss: 0.02691\n",
      "Epoch: 3/3 | Batch 1/2 | Train Loss: 0.00433\n"
     ]
    }
   ],
   "source": [
    "# Neural network training in PyTorch\n",
    "torch.manual_seed(123)\n",
    "model = NeuralNetwork(num_inputs=2, num_outputs=2)\n",
    "optimizer = torch.optim.SGD(params=model.parameters(), lr=0.5)\n",
    "num_epochs = 3\n",
    "for epoch in range(num_epochs):\n",
    "    model.train()\n",
    "    for batch_idx, (features, labels) in enumerate(train_loader):\n",
    "        logits = model(features)\n",
    "        loss = F.cross_entropy(logits, labels)\n",
    "        optimizer.zero_grad()\n",
    "        loss.backward()\n",
    "        optimizer.step()\n",
    "        # Logging\n",
    "        print(f\"Epoch: {epoch+1:d}/{num_epochs:d} | Batch {batch_idx:d}/{len(train_loader):d} | Train Loss: {loss:.5f}\")\n",
    "    model.eval()"
   ]
  },
  {
   "cell_type": "markdown",
   "id": "b3f3b497",
   "metadata": {},
   "source": [
    "## Exercise A.3 - Page 275\n",
    "- Input layer: 2 x 30 + 30 = 90\n",
    "- Second layer: 30 x 20 + 20 = 620\n",
    "- Output layer: 20 x 2 + 2 = 42\n",
    "- Total: 90 + 620 + 42 = 752 parameters."
   ]
  },
  {
   "cell_type": "code",
   "execution_count": 88,
   "id": "da7841fb",
   "metadata": {},
   "outputs": [
    {
     "name": "stdout",
     "output_type": "stream",
     "text": [
      "tensor([[ 2.8569, -4.1618],\n",
      "        [ 2.5382, -3.7548],\n",
      "        [ 2.0944, -3.1820],\n",
      "        [-1.4814,  1.4816],\n",
      "        [-1.7176,  1.7342]])\n"
     ]
    }
   ],
   "source": [
    "# Make predictions\n",
    "model.eval()\n",
    "with torch.no_grad():\n",
    "    outputs = model(X_train)\n",
    "print(outputs)"
   ]
  },
  {
   "cell_type": "code",
   "execution_count": 89,
   "id": "b2f4a736",
   "metadata": {},
   "outputs": [
    {
     "name": "stdout",
     "output_type": "stream",
     "text": [
      "tensor([[    0.9991,     0.0009],\n",
      "        [    0.9982,     0.0018],\n",
      "        [    0.9949,     0.0051],\n",
      "        [    0.0491,     0.9509],\n",
      "        [    0.0307,     0.9693]])\n"
     ]
    }
   ],
   "source": [
    "# Obtain the class membership probabilities\n",
    "torch.set_printoptions(sci_mode=False)\n",
    "probas = torch.softmax(outputs, dim=1)\n",
    "print(probas)"
   ]
  },
  {
   "cell_type": "code",
   "execution_count": 90,
   "id": "545ffe73",
   "metadata": {},
   "outputs": [
    {
     "name": "stdout",
     "output_type": "stream",
     "text": [
      "tensor([0, 0, 0, 1, 1])\n"
     ]
    }
   ],
   "source": [
    "# Convert class membership probabilities into class label predictions\n",
    "predictions = torch.argmax(probas, dim=1)\n",
    "print(predictions)"
   ]
  },
  {
   "cell_type": "code",
   "execution_count": 91,
   "id": "e7090b76",
   "metadata": {},
   "outputs": [
    {
     "name": "stdout",
     "output_type": "stream",
     "text": [
      "tensor([0, 0, 0, 1, 1])\n"
     ]
    }
   ],
   "source": [
    "# Convert class membership probabilities into class label predictions from outputs\n",
    "predictions = torch.argmax(outputs, dim=1)\n",
    "print(predictions)"
   ]
  },
  {
   "cell_type": "code",
   "execution_count": 92,
   "id": "ee71be5c",
   "metadata": {},
   "outputs": [
    {
     "data": {
      "text/plain": [
       "tensor([True, True, True, True, True])"
      ]
     },
     "execution_count": 92,
     "metadata": {},
     "output_type": "execute_result"
    }
   ],
   "source": [
    "# Check correctness for each instance\n",
    "predictions == y_train"
   ]
  },
  {
   "cell_type": "code",
   "execution_count": 93,
   "id": "bf2dd80b",
   "metadata": {},
   "outputs": [
    {
     "data": {
      "text/plain": [
       "tensor(5)"
      ]
     },
     "execution_count": 93,
     "metadata": {},
     "output_type": "execute_result"
    }
   ],
   "source": [
    "# See how much are correct\n",
    "torch.sum(predictions == y_train)"
   ]
  },
  {
   "cell_type": "code",
   "execution_count": 94,
   "id": "3f83721f",
   "metadata": {},
   "outputs": [],
   "source": [
    "# Generalize the computation of the prediction accuracy\n",
    "def compute_accuracy(model, dataloader):\n",
    "    model = model.eval()\n",
    "    correct = 0.0\n",
    "    total = 0\n",
    "    for idx, (features, labels) in enumerate(dataloader):\n",
    "        with torch.no_grad():\n",
    "            logits = model(features)\n",
    "        predictions = torch.argmax(logits, dim=1)\n",
    "        compare = labels == predictions\n",
    "        correct += torch.sum(compare)\n",
    "        total += len(compare)\n",
    "    return (correct / total).item()"
   ]
  },
  {
   "cell_type": "code",
   "execution_count": 95,
   "id": "61197dab",
   "metadata": {},
   "outputs": [
    {
     "name": "stdout",
     "output_type": "stream",
     "text": [
      "1.0\n"
     ]
    }
   ],
   "source": [
    "# Print training accuracy\n",
    "print(compute_accuracy(model, train_loader))"
   ]
  },
  {
   "cell_type": "code",
   "execution_count": 96,
   "id": "5828851f",
   "metadata": {},
   "outputs": [
    {
     "name": "stdout",
     "output_type": "stream",
     "text": [
      "1.0\n"
     ]
    }
   ],
   "source": [
    "# Print test accuracy\n",
    "print(compute_accuracy(model, test_loader))"
   ]
  },
  {
   "cell_type": "markdown",
   "id": "333b1dc5",
   "metadata": {},
   "source": [
    "# A.8 - Saving and loading models"
   ]
  },
  {
   "cell_type": "code",
   "execution_count": 97,
   "id": "c57bb0fe",
   "metadata": {},
   "outputs": [],
   "source": [
    "# Save models in PyTorch\n",
    "torch.save(model.state_dict(), \"model.pth\")"
   ]
  },
  {
   "cell_type": "code",
   "execution_count": 98,
   "id": "438d96e0",
   "metadata": {},
   "outputs": [
    {
     "data": {
      "text/plain": [
       "<All keys matched successfully>"
      ]
     },
     "execution_count": 98,
     "metadata": {},
     "output_type": "execute_result"
    }
   ],
   "source": [
    "# Retore the model from disk\n",
    "model = NeuralNetwork(2, 2)\n",
    "model.load_state_dict(torch.load(\"model.pth\"))"
   ]
  },
  {
   "cell_type": "markdown",
   "id": "20a5cd65",
   "metadata": {},
   "source": [
    "# A.9 - Optimizing training performance with GPUs"
   ]
  },
  {
   "cell_type": "markdown",
   "id": "b3698ad2",
   "metadata": {},
   "source": [
    "## A.9.1 - PyTorch computations on GPU devices"
   ]
  },
  {
   "cell_type": "code",
   "execution_count": 99,
   "id": "e068af31",
   "metadata": {},
   "outputs": [
    {
     "name": "stdout",
     "output_type": "stream",
     "text": [
      "False\n"
     ]
    }
   ],
   "source": [
    "# Check availability\n",
    "print(torch.cuda.is_available())"
   ]
  },
  {
   "cell_type": "code",
   "execution_count": 100,
   "id": "f8eb5369",
   "metadata": {},
   "outputs": [
    {
     "name": "stdout",
     "output_type": "stream",
     "text": [
      "tensor([5., 7., 9.])\n"
     ]
    }
   ],
   "source": [
    "# PyTorch computations on CPU\n",
    "tensor_1 = torch.tensor([1., 2., 3.])\n",
    "tensor_2 = torch.tensor([4., 5., 6.])\n",
    "print(tensor_1 + tensor_2)"
   ]
  },
  {
   "cell_type": "markdown",
   "id": "1e56e89b",
   "metadata": {},
   "source": [
    "## A.9.2 - Single-GPU training"
   ]
  },
  {
   "cell_type": "code",
   "execution_count": 101,
   "id": "7f41e8d4",
   "metadata": {},
   "outputs": [
    {
     "name": "stdout",
     "output_type": "stream",
     "text": [
      "Epoch: 1/3 | Batch 0/2 | Train Loss: 0.74874\n",
      "Epoch: 1/3 | Batch 1/2 | Train Loss: 0.64503\n",
      "Epoch: 2/3 | Batch 0/2 | Train Loss: 0.44226\n",
      "Epoch: 2/3 | Batch 1/2 | Train Loss: 0.12562\n",
      "Epoch: 3/3 | Batch 0/2 | Train Loss: 0.02691\n",
      "Epoch: 3/3 | Batch 1/2 | Train Loss: 0.00433\n"
     ]
    }
   ],
   "source": [
    "# Train on a single GPU\n",
    "torch.manual_seed(123)\n",
    "model = NeuralNetwork(num_inputs=2, num_outputs=2)\n",
    "device = torch.device(\"cuda\" if torch.cuda.is_available() else \"cpu\")\n",
    "model = model.to(device)\n",
    "optimizer = torch.optim.SGD(params=model.parameters(), lr=0.5)\n",
    "num_epochs = 3\n",
    "for epoch in range(num_epochs):\n",
    "    model.train()\n",
    "    for batch_idx, (features, labels) in enumerate(train_loader):\n",
    "        features, labels = features.to(device), labels.to(device)\n",
    "        logits = model(features)\n",
    "        loss = F.cross_entropy(logits, labels)\n",
    "        optimizer.zero_grad()\n",
    "        loss.backward()\n",
    "        optimizer.step()\n",
    "        # Logging\n",
    "        print(f\"Epoch: {epoch+1:d}/{num_epochs:d} | Batch {batch_idx:d}/{len(train_loader):d} | Train Loss: {loss:.5f}\")\n",
    "    model.eval()"
   ]
  },
  {
   "cell_type": "markdown",
   "id": "d4178396",
   "metadata": {},
   "source": [
    "## Exercise A.4 - Page 282\n",
    "- I don't have a GPU, so I couldn't finish this exercise.\n",
    "- What I learned from Appendix C is that on V100, the computation is approximately four times faster."
   ]
  },
  {
   "cell_type": "code",
   "execution_count": 102,
   "id": "72f1f35e",
   "metadata": {},
   "outputs": [
    {
     "name": "stdout",
     "output_type": "stream",
     "text": [
      "The slowest run took 9.29 times longer than the fastest. This could mean that an intermediate result is being cached.\n",
      "1.74 ms ± 1.12 ms per loop (mean ± std. dev. of 7 runs, 100 loops each)\n"
     ]
    }
   ],
   "source": [
    "# Time the matrix multiplication calculation on CPU\n",
    "a = torch.rand(100, 200)\n",
    "b = torch.rand(200, 300)\n",
    "%timeit a@b"
   ]
  },
  {
   "cell_type": "markdown",
   "id": "e3e5a97c",
   "metadata": {},
   "source": [
    "## A.9.3 - Training with multiple GPUs\n",
    "- I cannot access multiple GPUs, so I skipped this section in the Appendix A."
   ]
  }
 ],
 "metadata": {
  "kernelspec": {
   "display_name": "Learning-Notes_LLM-from-Scratch",
   "language": "python",
   "name": "python3"
  },
  "language_info": {
   "codemirror_mode": {
    "name": "ipython",
    "version": 3
   },
   "file_extension": ".py",
   "mimetype": "text/x-python",
   "name": "python",
   "nbconvert_exporter": "python",
   "pygments_lexer": "ipython3",
   "version": "-1.-1.-1"
  }
 },
 "nbformat": 4,
 "nbformat_minor": 5
}
